{
 "cells": [
  {
   "cell_type": "raw",
   "id": "e1947a0b-15b8-46f4-87e5-7be874695fd6",
   "metadata": {},
   "source": [
    "1)"
   ]
  },
  {
   "cell_type": "markdown",
   "id": "c99268c6-a0f6-4fc8-bec0-9c7d03023ee9",
   "metadata": {},
   "source": [
    "An exception in Python is an event that occurs during the execution of a program that disrupts the normal flow of the program's instructions. Exceptions are used to indicate errors or unexpected conditions that arise during the execution of a program.\n",
    "In Python, exceptions are handled using the try and except statements. When an exception occurs, the normal flow of the program is interrupted, and control is transferred to the except block. In the except block, the code can handle the exception, and take appropriate action to resolve the error.\n",
    "The difference between exceptions and syntax errors is that exceptions are errors that occur during the execution of a program, while syntax errors occur when a program is written in an incorrect syntax, and the program cannot be executed.\n",
    "Syntax errors are easily recognizable because they prevent a program from being executed, and they are often reported by the Python interpreter with a syntax error message. On the other hand, exceptions are more subtle and may not be recognized until the program is running, and the error occurs."
   ]
  },
  {
   "cell_type": "raw",
   "id": "59305374-d877-4485-a06b-77c74cd6a47c",
   "metadata": {},
   "source": [
    "2)"
   ]
  },
  {
   "cell_type": "markdown",
   "id": "7782d3df-ea73-45de-8747-1badb10d5980",
   "metadata": {},
   "source": [
    "If an exception is not handled in a Python program, the program will crash and stop executing. This is because the exception will propagate up the call stack, until it reaches the top level of the program, where it will cause an unhandled exception error.\n",
    "for example:"
   ]
  },
  {
   "cell_type": "code",
   "execution_count": 19,
   "id": "a7079e65-c665-4649-829d-8f20780fa460",
   "metadata": {},
   "outputs": [
    {
     "ename": "ZeroDivisionError",
     "evalue": "division by zero",
     "output_type": "error",
     "traceback": [
      "\u001b[0;31m---------------------------------------------------------------------------\u001b[0m",
      "\u001b[0;31mZeroDivisionError\u001b[0m                         Traceback (most recent call last)",
      "Cell \u001b[0;32mIn[19], line 3\u001b[0m\n\u001b[1;32m      1\u001b[0m a \u001b[38;5;241m=\u001b[39m \u001b[38;5;241m5\u001b[39m\n\u001b[1;32m      2\u001b[0m b \u001b[38;5;241m=\u001b[39m \u001b[38;5;241m0\u001b[39m\n\u001b[0;32m----> 3\u001b[0m c \u001b[38;5;241m=\u001b[39m \u001b[43ma\u001b[49m\u001b[43m \u001b[49m\u001b[38;5;241;43m/\u001b[39;49m\u001b[43m \u001b[49m\u001b[43mb\u001b[49m\n\u001b[1;32m      4\u001b[0m \u001b[38;5;28mprint\u001b[39m(c)\n",
      "\u001b[0;31mZeroDivisionError\u001b[0m: division by zero"
     ]
    }
   ],
   "source": [
    "a = 5\n",
    "b = 0\n",
    "c = a / b\n",
    "print(c)\n"
   ]
  },
  {
   "cell_type": "markdown",
   "id": "410794ff-38dc-43a2-832a-c338231f489d",
   "metadata": {},
   "source": [
    "In this code, an exception is raised when the program tries to divide a by b. However, there is no try and except block to handle the exception, and as a result, the program crashes and stops executing.\n",
    "To prevent the program from crashing, the exception should be handled using a try and except block, as in the following code:\n",
    "\n"
   ]
  },
  {
   "cell_type": "code",
   "execution_count": 20,
   "id": "d0fc203e-e725-4cf1-8332-7e064a4d4bd4",
   "metadata": {},
   "outputs": [
    {
     "name": "stdout",
     "output_type": "stream",
     "text": [
      "cannot devide by zero\n"
     ]
    }
   ],
   "source": [
    "a=5\n",
    "b=0\n",
    "try:\n",
    "    c=a/b\n",
    "except:\n",
    "    print(\"cannot devide by zero\")"
   ]
  },
  {
   "cell_type": "raw",
   "id": "cbc16978-ff91-4e86-8c06-0a7ad70b7808",
   "metadata": {},
   "source": [
    "3)"
   ]
  },
  {
   "cell_type": "markdown",
   "id": "159dea33-dae2-4c82-bee8-668a5922607b",
   "metadata": {},
   "source": [
    "In Python, the try and except statements are used to catch and handle exceptions. The try statement is used to specify a block of code that might raise an exception, and the except statement is used to specify the exception handler that will be called if an exception occurs in the try block.\n",
    "Here's an example to illustrate how the try and except statements are used in Python:\n",
    "\n"
   ]
  },
  {
   "cell_type": "code",
   "execution_count": 21,
   "id": "f73cee80-9db7-48a6-8332-4b945815154e",
   "metadata": {},
   "outputs": [
    {
     "name": "stdout",
     "output_type": "stream",
     "text": [
      "cannot devide by zero\n"
     ]
    }
   ],
   "source": [
    "a=5\n",
    "b=0\n",
    "try:\n",
    "    c=a/b\n",
    "except:\n",
    "    print(\"cannot devide by zero\")"
   ]
  },
  {
   "cell_type": "markdown",
   "id": "a786d4ff-2042-4025-8ea0-5ccf176c4fe9",
   "metadata": {},
   "source": [
    "In this example, the try statement contains a block of code that might raise an exception. Specifically, the program tries to divide a by b, which raises a ZeroDivisionError exception.\n",
    "The except statement specifies that if a ZeroDivisionError exception occurs in the try block, the program should execute the code in the except block. In this case, the except block contains a print statement that prints a message indicating that the division by zero error has occurred."
   ]
  },
  {
   "cell_type": "raw",
   "id": "e1f67504-570e-4576-89bc-090b9ed37c96",
   "metadata": {},
   "source": [
    "4)"
   ]
  },
  {
   "cell_type": "markdown",
   "id": "74acabb7-8ed8-4751-9e93-2f58566d784f",
   "metadata": {},
   "source": [
    "The try and else statement in Python can be used in conjunction with the except statement to provide more control over the handling of exceptions. The else statement is executed if no exception occurs in the try block.\n",
    "Example:"
   ]
  },
  {
   "cell_type": "code",
   "execution_count": 5,
   "id": "e2426ed6-323b-4b6a-8f0a-ad20c1c5a0ef",
   "metadata": {},
   "outputs": [
    {
     "name": "stdout",
     "output_type": "stream",
     "text": [
      "Result: 2.5\n"
     ]
    }
   ],
   "source": [
    "try:\n",
    "    a = 5\n",
    "    b = 2\n",
    "    c = a / b\n",
    "except ZeroDivisionError:\n",
    "    print(\"Cannot divide by zero\")\n",
    "else:\n",
    "    print(\"Result:\", c)\n"
   ]
  },
  {
   "cell_type": "markdown",
   "id": "e5c00535-459c-4cee-9318-36beab54489f",
   "metadata": {},
   "source": [
    "In this example, the try statement contains a block of code that might raise an exception. Specifically, the program tries to divide a by b. If no exception occurs, the program executes the code in the else block, which prints the result of the division.The except statement specifies that if a ZeroDivisionError exception occurs in the try block, the program should execute the code in the except block. In this case, the except block contains a print statement that prints a message indicating that the division by zero error has occurred."
   ]
  },
  {
   "cell_type": "markdown",
   "id": "56f44d2a-7f4f-44c5-8e64-1d1762d94b62",
   "metadata": {},
   "source": [
    "The finally statement in Python can be used in conjunction with the try statement to provide even more control over the handling of exceptions. The finally statement specifies a block of code that will be executed, regardless of whether an exception occurs or not."
   ]
  },
  {
   "cell_type": "raw",
   "id": "e82635e0-f6e5-4d35-9805-d3b17a960bd0",
   "metadata": {},
   "source": [
    "5)"
   ]
  },
  {
   "cell_type": "markdown",
   "id": "73f7dd55-a1d8-48a4-aaff-0f974e5ed122",
   "metadata": {},
   "source": [
    "Custom exceptions in Python allow you to create your own exception classes, which can be used to signal specific error conditions in your code. By defining custom exceptions, you can make your code more readable, organized, and easier to maintain.By using custom exceptions, you can provide more meaningful error messages and control the flow of your program in a more organized way.\n",
    "for example:"
   ]
  },
  {
   "cell_type": "code",
   "execution_count": 15,
   "id": "64493374-da08-4ce4-80f9-4f49d34dc285",
   "metadata": {},
   "outputs": [],
   "source": [
    "class validate_age(Exception):\n",
    "    def __init__(self,msg):\n",
    "        self.msg=msg\n",
    "        "
   ]
  },
  {
   "cell_type": "code",
   "execution_count": 16,
   "id": "6325411a-4d6d-4cb5-8174-04335ae19bf2",
   "metadata": {},
   "outputs": [],
   "source": [
    "def validateage(age):\n",
    "    if age < 0:\n",
    "        raise (\"invalid age\")\n",
    "    elif age > 200:\n",
    "        raise (\"invalid age\")\n",
    "    else:\n",
    "        print(\"valid age\")\n",
    "        "
   ]
  },
  {
   "cell_type": "code",
   "execution_count": 17,
   "id": "cf9c5c2e-b182-484d-8817-fc6d6cdcb83d",
   "metadata": {},
   "outputs": [
    {
     "name": "stdin",
     "output_type": "stream",
     "text": [
      "Enter your age 34\n"
     ]
    },
    {
     "name": "stdout",
     "output_type": "stream",
     "text": [
      "valid age\n"
     ]
    }
   ],
   "source": [
    "try:\n",
    "    age = int(input(\"Enter your age\"))\n",
    "    validateage(age)\n",
    "except validate_age as a:\n",
    "    print(a)\n",
    "    \n",
    "    \n",
    "    "
   ]
  },
  {
   "cell_type": "raw",
   "id": "21b3b69a-14cd-47be-9654-53858e648618",
   "metadata": {},
   "source": [
    "6)"
   ]
  },
  {
   "cell_type": "code",
   "execution_count": 22,
   "id": "648a088b-5a59-4e1a-8d28-42bfd39453bf",
   "metadata": {},
   "outputs": [
    {
     "name": "stdout",
     "output_type": "stream",
     "text": [
      "Result: 2.5\n"
     ]
    }
   ],
   "source": [
    "class CalculationError(Exception):\n",
    "    pass\n",
    "\n",
    "def perform_calculation(a, b):\n",
    "    try:\n",
    "        result = a / b\n",
    "    except ZeroDivisionError:\n",
    "        raise CalculationError(\"Cannot divide by zero\")\n",
    "    return result\n",
    "\n",
    "try:\n",
    "    result = perform_calculation(5, 2)\n",
    "    print(\"Result:\", result)\n",
    "except CalculationError as e:\n",
    "    print(\"Error:\", e)\n"
   ]
  },
  {
   "cell_type": "code",
   "execution_count": null,
   "id": "96cb238e-b2d4-4beb-9142-003cb094b74a",
   "metadata": {},
   "outputs": [],
   "source": []
  }
 ],
 "metadata": {
  "kernelspec": {
   "display_name": "Python 3 (ipykernel)",
   "language": "python",
   "name": "python3"
  },
  "language_info": {
   "codemirror_mode": {
    "name": "ipython",
    "version": 3
   },
   "file_extension": ".py",
   "mimetype": "text/x-python",
   "name": "python",
   "nbconvert_exporter": "python",
   "pygments_lexer": "ipython3",
   "version": "3.10.8"
  }
 },
 "nbformat": 4,
 "nbformat_minor": 5
}
